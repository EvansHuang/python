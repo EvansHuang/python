{
 "cells": [
  {
   "cell_type": "markdown",
   "metadata": {},
   "source": [
    "                                              ### 动手试一试\n",
    "    请完成下面练习，在做每个练习时，都编写一个独立的程序。保存每个程序时，使用符合标准Python约定的文件名：使用小写字母和下划线，如：simple_message.py和simple_messages.py\n",
    "\n",
    "### 2-1 简单消息:将一条消息存储到变量中,再将其打印出来\n",
    "### 2-2 多条简单消息:将一条消息存储在变量中,将其打印出来,再将变量值修改为一条新消息,并将其打印出来"
   ]
  },
  {
   "cell_type": "code",
   "execution_count": 1,
   "metadata": {},
   "outputs": [
    {
     "name": "stdout",
     "output_type": "stream",
     "text": [
      "Hello World\n"
     ]
    }
   ],
   "source": [
    "#simple_message.py\n",
    "\n",
    "msg = 'Hello World'\n",
    "print(msg)"
   ]
  },
  {
   "cell_type": "code",
   "execution_count": 2,
   "metadata": {},
   "outputs": [
    {
     "name": "stdout",
     "output_type": "stream",
     "text": [
      "Hello World\n",
      "Hello Python\n"
     ]
    }
   ],
   "source": [
    "#simple_messages.py\n",
    "\n",
    "mag = 'Hello World'\n",
    "print(msg)\n",
    "msg = 'Hello Python'\n",
    "print(msg)"
   ]
  },
  {
   "cell_type": "markdown",
   "metadata": {},
   "source": [
    "                                              ### 动手试一试\n",
    "    在做下面的每个练习时，都编写一个独立的程序，并将其保存为名称类似于name_cases.py。如果遇到了困难，请休息一会儿或者参阅附录C提供的建议。\n",
    "### 2-3 个性化消息：将用户额姓名存到一个变量中，并向改用户显示一条消息。显示的消息应非常简单，如“Hello Eric，would you like to learn some Python today?”\n",
    "### 2-4 调整名字的大小写：将一个人名存储到一个变量中，再以小写、大写和首字母大写的方式显示这个人名\n",
    "### 2-5 名言：找一句你钦佩的名人说的名言，将这个名人的姓名和他的名言打印出来。输出应类似于下面这样（包括引号）：Albert Einstein once said, “A person who never made a mistake never tried anything new.”\n",
    "### 2-6 名言2：重复练习2-5，但将名人的姓名存储在变量famous_person 中，再创建要显示的消息，并将其存储在变量message 中，然后打印这条消息。\n",
    "### 2-7 剔除人名中的空白：存储一个人名，并在其开头和末尾都包含一些空白字符。务必至少使用字符组合\"\\t\"和\"\\n\"各一次。打印这个人名，以显示其开头和末尾的空白。然后，分别使用剔除函数lstrip()、rstrip()和strip()对人名进行处理，并将结果打印出来"
   ]
  },
  {
   "cell_type": "code",
   "execution_count": 3,
   "metadata": {},
   "outputs": [
    {
     "name": "stdout",
     "output_type": "stream",
     "text": [
      "Hello Eric, would you like to learn some Python today?\n",
      "Hello ERIC, would you like to learn some Python today?\n",
      "Hello eric, would you like to learn some Python today?\n",
      "Hello Eric, would you like to learn some Python today?\n"
     ]
    }
   ],
   "source": [
    "#name_cases.py\n",
    "'''2-3 2-4'''\n",
    "name = 'Eric'\n",
    "''' '''\n",
    "print('Hello %s, would you like to learn some Python today?'%name)\n",
    "'''大写'''\n",
    "print('Hello %s, would you like to learn some Python today?'%name.upper())\n",
    "'''小写'''\n",
    "print('Hello %s, would you like to learn some Python today?'%name.lower())\n",
    "''' 首字母大写'''\n",
    "print('Hello %s, would you like to learn some Python today?'%name.title())\n"
   ]
  },
  {
   "cell_type": "code",
   "execution_count": 4,
   "metadata": {},
   "outputs": [
    {
     "name": "stdout",
     "output_type": "stream",
     "text": [
      " toms \n",
      "toms \n",
      "toms\n",
      "toms\n"
     ]
    }
   ],
   "source": [
    "'''2-5 2-6 2-7'''\n",
    "\n",
    "last_name = ' toms '\n",
    "print(last_name)\n",
    "'''lstrip() 方法用于截掉字符串左边的空格或指定字符'''\n",
    "last_name = last_name.lstrip()\n",
    "print(last_name)\n",
    "'''rstrip() 删除 string 字符串末尾的指定字符（默认为空格）.'''\n",
    "last_name = last_name.rstrip()\n",
    "print(last_name)\n",
    "'''Python strip() 方法用于移除字符串头尾指定的字符（默认为空格或换行符）或字符序列。\n",
    "注意：该方法只能删除开头或是结尾的字符，不能删除中间部分的字符。'''\n",
    "last_name = ' toms '\n",
    "\n",
    "last_name = last_name.strip()\n",
    "print(last_name)"
   ]
  },
  {
   "cell_type": "markdown",
   "metadata": {},
   "source": [
    "                                      ### 动手试一试\n",
    "#### 2-8 数字8：编写4 个表达式，它们分别使用加法、减法、乘法和除法运算，但结果都是数字8。为使用print 语句来显示结果，务必将这些表达式用括号括起来，也就是说，你应该编写4 行类似于下面的代码：print(5 + 3)输出应为4 行，其中每行都只包含数字8。\n",
    "### 2-9 最喜欢的数字：将你最喜欢的数字存储在一个变量中，再使用这个变量创建一条消息，指出你最喜欢的数字，然后将这条消息打印出来。"
   ]
  },
  {
   "cell_type": "code",
   "execution_count": 5,
   "metadata": {},
   "outputs": [
    {
     "name": "stdout",
     "output_type": "stream",
     "text": [
      "8\n",
      "8\n",
      "8\n",
      "8\n",
      "My favorite number is 10\n"
     ]
    }
   ],
   "source": [
    "print(5 + 3)\n",
    "print(10 - 2)\n",
    "print(2 * 4)\n",
    "print(int(16 / 2 ))\n",
    "\n",
    "number = 10\n",
    "print('My favorite number is %s'% number)"
   ]
  },
  {
   "cell_type": "markdown",
   "metadata": {},
   "source": [
    "                                ### 动手试一试\n",
    "### 2-11 Python 之禅：在Python 终端会话中执行命令import this，并粗略地浏览一下其他的指导原则。"
   ]
  },
  {
   "cell_type": "code",
   "execution_count": 6,
   "metadata": {},
   "outputs": [
    {
     "name": "stdout",
     "output_type": "stream",
     "text": [
      "The Zen of Python, by Tim Peters\n",
      "\n",
      "Beautiful is better than ugly.\n",
      "Explicit is better than implicit.\n",
      "Simple is better than complex.\n",
      "Complex is better than complicated.\n",
      "Flat is better than nested.\n",
      "Sparse is better than dense.\n",
      "Readability counts.\n",
      "Special cases aren't special enough to break the rules.\n",
      "Although practicality beats purity.\n",
      "Errors should never pass silently.\n",
      "Unless explicitly silenced.\n",
      "In the face of ambiguity, refuse the temptation to guess.\n",
      "There should be one-- and preferably only one --obvious way to do it.\n",
      "Although that way may not be obvious at first unless you're Dutch.\n",
      "Now is better than never.\n",
      "Although never is often better than *right* now.\n",
      "If the implementation is hard to explain, it's a bad idea.\n",
      "If the implementation is easy to explain, it may be a good idea.\n",
      "Namespaces are one honking great idea -- let's do more of those!\n"
     ]
    }
   ],
   "source": [
    "import this"
   ]
  },
  {
   "cell_type": "code",
   "execution_count": null,
   "metadata": {},
   "outputs": [],
   "source": []
  }
 ],
 "metadata": {
  "kernelspec": {
   "display_name": "Python 3",
   "language": "python",
   "name": "python3"
  },
  "language_info": {
   "codemirror_mode": {
    "name": "ipython",
    "version": 3
   },
   "file_extension": ".py",
   "mimetype": "text/x-python",
   "name": "python",
   "nbconvert_exporter": "python",
   "pygments_lexer": "ipython3",
   "version": "3.6.5"
  }
 },
 "nbformat": 4,
 "nbformat_minor": 2
}
