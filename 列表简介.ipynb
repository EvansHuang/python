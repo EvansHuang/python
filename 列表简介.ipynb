{
 "cells": [
  {
   "cell_type": "markdown",
   "metadata": {},
   "source": [
    "动手试一试\n",
    "请尝试编写一些简短的程序来完成下面的练习，以获得一些使用Python 列表的第一手经验。你可能需要为每章的练习创建一个文件夹，以整洁有序的方式存储为完成各章的练习而编写的程序。\n",
    "#### 3-1 姓名：将一些朋友的姓名存储在一个列表中，并将其命名为names。依次访问该列表中的每个元素，从而将每个朋友的姓名都打印出来。\n",
    "#### 3-2 问候语：继续使用练习3-1 中的列表，但不打印每个朋友的姓名，而为每人打印一条消息。每条消息都包含相同的问候语，但抬头为相应朋友的姓名。\n",
    "#### 3-3 自己的列表：想想你喜欢的通勤方式，如骑摩托车或开汽车，并创建一个包含多种通勤方式的列表。根据该列表打印一系列有关这些通勤方式的宣言，如“I would like to own a Honda motorcycle”。"
   ]
  },
  {
   "cell_type": "code",
   "execution_count": 3,
   "metadata": {},
   "outputs": [
    {
     "name": "stdout",
     "output_type": "stream",
     "text": [
      "Toms\n",
      "Jack\n",
      "Andy\n",
      "Tony\n",
      "Toms,How's it going? \n",
      "Jack,How's it going? \n",
      "Andy,How's it going? \n",
      "Tony,How's it going? \n"
     ]
    }
   ],
   "source": [
    "'''3-1'''\n",
    "names = ['Toms', 'Jack', 'Andy', 'Tony']\n",
    "\n",
    "for i in names:\n",
    "    print(i)\n",
    "'''3-2'''\n",
    "for i in names:\n",
    "    print(\"%s,How's it going? \"%i)"
   ]
  },
  {
   "cell_type": "code",
   "execution_count": 4,
   "metadata": {},
   "outputs": [
    {
     "name": "stdout",
     "output_type": "stream",
     "text": [
      "I would like to own a car\n",
      "I would like to own a bus\n",
      "I would like to own a railway\n",
      "I would like to own a Subway\n",
      "I would like to own a motorcycle\n"
     ]
    }
   ],
   "source": [
    "'''3-3'''\n",
    "transportation = ['car', 'bus', 'railway', 'Subway', 'motorcycle']\n",
    "\n",
    "for i in transportation:\n",
    "    print('I would like to own a %s'%i)\n"
   ]
  },
  {
   "cell_type": "markdown",
   "metadata": {},
   "source": [
    "动手试一试\n",
    "下面的练习比第2 章的练习要复杂些，但让你有机会以前面介绍过的各种方式使用列表。\n",
    "#### 3-4 嘉宾名单：如果你可以邀请任何人一起共进晚餐（无论是在世的还是故去的），你会邀请哪些人？请创建一个列表，其中包含至少3个你想邀请的人；然后，使用这个列表打印消息，邀请这些人来与你共进晚餐。\n",
    "#### 3-5 修改嘉宾名单：你刚得知有位嘉宾无法赴约，因此需要另外邀请一位嘉宾。\n",
    " 以完成练习3-4 时编写的程序为基础，在程序末尾添加一条print 语句，指出哪位嘉宾无法赴约。\n",
    " 修改嘉宾名单，将无法赴约的嘉宾的姓名替换为新邀请的嘉宾的姓名。\n",
    " 再次打印一系列消息，向名单中的每位嘉宾发出邀请。\n",
    "#### 3-6 添加嘉宾：你刚找到了一个更大的餐桌，可容纳更多的嘉宾。请想想你还想邀请哪三位嘉宾。\n",
    " 以完成练习3-4 或练习3-5 时编写的程序为基础，在程序末尾添加一条print 语句，指出你找到了一个更大的餐桌。\n",
    " 使用insert()将一位新嘉宾添加到名单开头。\n",
    " 使用insert()将另一位新嘉宾添加到名单中间。\n",
    " 使用append()将最后一位新嘉宾添加到名单末尾。\n",
    " 打印一系列消息，向名单中的每位嘉宾发出邀请。\n",
    "#### 3-7 缩减名单：你刚得知新购买的餐桌无法及时送达，因此只能邀请两位嘉宾。\n",
    " 以完成练习3-6 时编写的程序为基础，在程序末尾添加一行代码，打印一条你只能邀请两位嘉宾共进晚餐的消息。\n",
    " 使用pop()不断地删除名单中的嘉宾，直到只有两位嘉宾为止。每次从名单中弹出一位嘉宾时，都打印一条消息，让该嘉宾知悉你很抱歉，无法邀请他来共进晚餐。\n",
    " 对于余下的两位嘉宾中的每一位，都打印一条消息，指出他依然在受邀人之列。\n",
    " 使用del 将最后两位嘉宾从名单中删除，让名单变成空的。打印该名单，核实程序结束时名单确实是空的。"
   ]
  },
  {
   "cell_type": "code",
   "execution_count": 5,
   "metadata": {},
   "outputs": [
    {
     "name": "stdout",
     "output_type": "stream",
     "text": [
      "Hey Nancy ,I want to have dinner with you.\n",
      "Hey Lucy ,I want to have dinner with you.\n",
      "Hey Tony ,I want to have dinner with you.\n",
      "Tony can't come today.\n",
      "Hey Nancy ,I want to have dinner with you.\n",
      "Hey Lucy ,I want to have dinner with you.\n",
      "Hey Mike ,I want to have dinner with you.\n",
      "Hey, gus I found a bigger table, let's go there.\n",
      "Hey Blus ,I want to have dinner with you.\n",
      "Hey Nancy ,I want to have dinner with you.\n",
      "Hey BOb ,I want to have dinner with you.\n",
      "Hey Lucy ,I want to have dinner with you.\n",
      "Hey Mike ,I want to have dinner with you.\n",
      "Hey Jis ,I want to have dinner with you.\n",
      "Hey, gus i'm sorry. The new dining table hasn't arrived yet. This table can only seat 2 people now.\n",
      "I'm sorry! Jis\n",
      "I'm sorry! Mike\n",
      "I'm sorry! Lucy\n",
      "I'm sorry! BOb\n",
      "Hey Blus ,I want to have dinner with you.\n",
      "Hey Nancy ,I want to have dinner with you.\n",
      "empty\n"
     ]
    }
   ],
   "source": [
    "invitation_people = ['Nancy', 'Lucy', 'Tony']  \n",
    "\n",
    "for i in invitation_people:\n",
    "    print('Hey %s ,I want to have dinner with you.'%i)\n",
    "\n",
    "print(\"%s can't come today.\"%invitation_people[2])  \n",
    " \n",
    "invitation_people[2] = 'Mike'\n",
    "for i in invitation_people:\n",
    "    print('Hey %s ,I want to have dinner with you.'%i)\n",
    "    \n",
    "print(\"Hey, gus I found a bigger table, let's go there.\")\n",
    "\n",
    "invitation_people.insert(0, 'Blus')\n",
    "invitation_people.insert(invitation_people.__len__() // 2, 'BOb')\n",
    "invitation_people.append('Jis')\n",
    "for i in invitation_people:\n",
    "    print('Hey %s ,I want to have dinner with you.'%i)\n",
    "\n",
    "print(\"Hey, gus i'm sorry. The new dining table hasn't arrived yet. This table can only seat 2 people now.\")\n",
    "\n",
    "while invitation_people.__len__() > 2:\n",
    "    print(\"I'm sorry!\",invitation_people.pop())\n",
    "\n",
    "for i in invitation_people:\n",
    "    print('Hey %s ,I want to have dinner with you.'%i)\n",
    "    \n",
    "#invitation_list.clear()\n",
    "del invitation_people[1]\n",
    "del invitation_people[0]\n",
    "    \n",
    "if invitation_people.__len__() == 0:  \n",
    "    print('empty')  \n",
    "else:\n",
    "    print('full')  "
   ]
  },
  {
   "cell_type": "markdown",
   "metadata": {},
   "source": [
    "动手试一试\n",
    "#### 3-8 放眼世界：想出至少5 个你渴望去旅游的地方。\n",
    " 将这些地方存储在一个列表中，并确保其中的元素不是按字母顺序排列的。\n",
    " 按原始排列顺序打印该列表。不要考虑输出是否整洁的问题，只管打印原始Python 列表。\n",
    " 使用sorted()按字母顺序打印这个列表，同时不要修改它。\n",
    " 再次打印该列表，核实排列顺序未变。\n",
    " 使用sorted()按与字母顺序相反的顺序打印这个列表，同时不要修改它。\n",
    " 再次打印该列表，核实排列顺序未变。\n",
    " 使用reverse()修改列表元素的排列顺序。打印该列表，核实排列顺序确实变了。\n",
    " 使用reverse()再次修改列表元素的排列顺序。打印该列表，核实已恢复到原来的排列顺序。\n",
    " 使用sort()修改该列表，使其元素按字母顺序排列。打印该列表，核实排列顺序确实变了。\n",
    " 使用sort()修改该列表，使其元素按与字母顺序相反的顺序排列。打印该列表，核实排列顺序确实变了。\n",
    "#### 3-9 晚餐嘉宾：在完成练习3-4~练习3-7 时编写的程序之一中，使用len()打印一条消息，指出你邀请了多少位嘉宾来与你共进晚餐。\n",
    "#### 3-10 尝试使用各个函数：想想可存储到列表中的东西，如山岳、河流、国家、城市、语言或你喜欢的任何东西。编写一个程序，在其中创建一个包含这些元素的列表，然后，对于本章介绍的每个函数，都至少使用一次来处理这个列表。"
   ]
  },
  {
   "cell_type": "code",
   "execution_count": 6,
   "metadata": {},
   "outputs": [
    {
     "name": "stdout",
     "output_type": "stream",
     "text": [
      "['Zhuzhou', 'xizang', 'hangzhou', 'taiguo']\n",
      "['Zhuzhou', 'hangzhou', 'taiguo', 'xizang']\n",
      "['Zhuzhou', 'xizang', 'hangzhou', 'taiguo']\n",
      "['xizang', 'taiguo', 'hangzhou', 'Zhuzhou']\n",
      "['Zhuzhou', 'xizang', 'hangzhou', 'taiguo']\n",
      "['taiguo', 'hangzhou', 'xizang', 'Zhuzhou']\n",
      "['Zhuzhou', 'xizang', 'hangzhou', 'taiguo']\n",
      "['Zhuzhou', 'hangzhou', 'taiguo', 'xizang']\n",
      "['xizang', 'taiguo', 'hangzhou', 'Zhuzhou']\n",
      "3\n",
      "['yongzhou', 'xizang', 'taiguo', 'hangzhou', 'Zhuzhou']\n",
      "['xizang', 'taiguo', 'hangzhou', 'Zhuzhou']\n",
      "['xizang', 'taiguo', 'hangzhou']\n",
      "['xizang', 'hangzhou']\n",
      "['xizang', 'hangzhou', 'Changsha']\n",
      "['Changsha', 'hangzhou', 'xizang']\n",
      "['xizang', 'hangzhou', 'Changsha']\n",
      "['Changsha', 'hangzhou', 'xizang']\n",
      "['xizang', 'hangzhou', 'Changsha']\n",
      "['Changsha', 'hangzhou', 'xizang']\n"
     ]
    }
   ],
   "source": [
    "city_address = ['Zhuzhou', 'xizang', 'hangzhou', 'taiguo']\n",
    "\n",
    "print(city_address)\n",
    "\n",
    "print(sorted(city_address))\n",
    "print(city_address)\n",
    "\n",
    "print(sorted(city_address,reverse = True))  \n",
    "print(city_address)\n",
    "\n",
    "city_address.reverse()\n",
    "print(city_address)\n",
    "city_address.reverse()\n",
    "print(city_address)\n",
    "\n",
    "city_address.sort()\n",
    "print(city_address)\n",
    "city_address.sort(reverse=True)\n",
    "print(city_address)\n",
    "\n",
    "invitation_people = ['Nancy', 'Lucy', 'Tony'] \n",
    "print(len(invitation_people))\n",
    "\n",
    "city_address.insert(0, 'yongzhou')\n",
    "print(city_address)\n",
    "\n",
    "del city_address[0]\n",
    "print(city_address)\n",
    "\n",
    "city_address.pop()\n",
    "print(city_address)\n",
    "\n",
    "city_address.remove('taiguo')\n",
    "print(city_address)\n",
    "\n",
    "city_address.append('Changsha')\n",
    "print(city_address)\n",
    "\n",
    "print(sorted(city_address))\n",
    "print(city_address)\n",
    "\n",
    "city_address.sort()\n",
    "print(city_address)\n",
    "\n",
    "city_address.reverse()\n",
    "print(city_address)\n",
    "\n",
    "city_address.reverse()\n",
    "print(city_address)"
   ]
  },
  {
   "cell_type": "code",
   "execution_count": null,
   "metadata": {},
   "outputs": [],
   "source": []
  }
 ],
 "metadata": {
  "kernelspec": {
   "display_name": "Python 3",
   "language": "python",
   "name": "python3"
  },
  "language_info": {
   "codemirror_mode": {
    "name": "ipython",
    "version": 3
   },
   "file_extension": ".py",
   "mimetype": "text/x-python",
   "name": "python",
   "nbconvert_exporter": "python",
   "pygments_lexer": "ipython3",
   "version": "3.6.5"
  }
 },
 "nbformat": 4,
 "nbformat_minor": 2
}
