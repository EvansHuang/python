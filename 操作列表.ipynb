{
 "cells": [
  {
   "cell_type": "code",
   "execution_count": null,
   "metadata": {},
   "outputs": [],
   "source": [
    "动手试一试\n",
    "4-1 比萨：想出至少三种你喜欢的比萨，将其名称存储在一个列表中，再使用for循环将每种比萨的名称都打印出来。\n",
    " 修改这个for 循环，使其打印包含比萨名称的句子，而不仅仅是比萨的名称。对于每种比萨，都显示一行输出，如“I like pepperoni pizza”。\n",
    " 在程序末尾添加一行代码，它不在for 循环中，指出你有多喜欢比萨。输出应包含针对每种比萨的消息，还有一个总结性句子，如“I really love pizza!”。\n",
    "4-2 动物：想出至少三种有共同特征的动物，将这些动物的名称存储在一个列表中，再使用for 循环将每种动物的名称都打印出来。\n",
    " 修改这个程序，使其针对每种动物都打印一个句子，如“A dog would make a greatpet”。\n",
    " 在程序末尾添加一行代码，指出这些动物的共同之处，如打印诸如“Any of these animals would make a great pet!”这样的句子。"
   ]
  },
  {
   "cell_type": "code",
   "execution_count": 1,
   "metadata": {},
   "outputs": [
    {
     "name": "stdout",
     "output_type": "stream",
     "text": [
      "like Cheese pizza\n",
      "like Mushroom pizza\n",
      "like Chicken pizza\n",
      "I really love pizza!\n",
      "A dog would make a great pet\n",
      "A cat would make a great pet\n",
      "A mouse would make a great pet\n",
      "Any of these animals would make a great pet!\n"
     ]
    }
   ],
   "source": [
    "pizza_name = ['Cheese', 'Mushroom', 'Chicken']\n",
    "\n",
    "for i in pizza_name:\n",
    "    print('like %s pizza'%i)\n",
    "print('I really love pizza!')  \n",
    "\n",
    "animals =  ['dog', 'cat', 'mouse']  \n",
    "\n",
    "for i in animals:\n",
    "    print('A %s would make a great pet'% i)\n",
    "print('Any of these animals would make a great pet!')"
   ]
  },
  {
   "cell_type": "code",
   "execution_count": null,
   "metadata": {},
   "outputs": [],
   "source": [
    "动手试一试\n",
    "4-3 数到20：使用一个for 循环打印数字1~20（含）。\n",
    "4-4 一百万：创建一个列表，其中包含数字1~1 000 000，再使用一个for 循环将这些数字打印出来（如果输出的时间太长，按Ctrl + C 停止输出，或关闭输出窗口）。\n",
    "4-5 计算1~1 000 000 的总和：创建一个列表，其中包含数字1~1 000 000，再使用\n",
    "min()和max()核实该列表确实是从1 开始，到1 000 000 结束的。另外，对这个列表调用函数sum()，看看Python 将一百万个数字相加需要多长时间。\n",
    "4-6 奇数：通过给函数range()指定第三个参数来创建一个列表，其中包含1~20 的奇数；再使用一个for 循环将这些数字都打印出来。\n",
    "4-7 3 的倍数：创建一个列表，其中包含3~30 内能被3 整除的数字；再使用一个for循环将这个列表中的数字都打印出来。\n",
    "4-8 立方：将同一个数字乘三次称为立方。例如，在Python 中，2 的立方用2**3表示。请创建一个列表，其中包含前10 个整数（即1~10）的立方，再使用一个for 循\n",
    "环将这些立方数都打印出来。\n",
    "4-9 立方解析：使用列表解析生成一个列表，其中包含前10 个整数的立方。"
   ]
  },
  {
   "cell_type": "code",
   "execution_count": 2,
   "metadata": {},
   "outputs": [
    {
     "name": "stdout",
     "output_type": "stream",
     "text": [
      "1\n",
      "2\n",
      "3\n",
      "4\n",
      "5\n",
      "6\n",
      "7\n",
      "8\n",
      "9\n",
      "10\n",
      "11\n",
      "12\n",
      "13\n",
      "14\n",
      "15\n",
      "16\n",
      "17\n",
      "18\n",
      "19\n",
      "20\n",
      "min:1, max:1000000, sum:500000500000\n",
      "1\n",
      "3\n",
      "5\n",
      "7\n",
      "9\n",
      "11\n",
      "13\n",
      "15\n",
      "17\n",
      "19\n",
      "3\n",
      "6\n",
      "9\n",
      "12\n",
      "15\n",
      "18\n",
      "21\n",
      "24\n",
      "27\n",
      "30\n",
      "1\n",
      "8\n",
      "27\n",
      "64\n",
      "125\n",
      "216\n",
      "343\n",
      "512\n",
      "729\n",
      "1000\n",
      "1\n",
      "8\n",
      "27\n",
      "64\n",
      "125\n",
      "216\n",
      "343\n",
      "512\n",
      "729\n",
      "1000\n"
     ]
    }
   ],
   "source": [
    "numbers = list(range(1, 21))\n",
    "\n",
    "for i in numbers:\n",
    "    print(i)\n",
    "#下面这个不打印了吧。\n",
    "# numbers = list(range(1, 1000001))\n",
    "# for i in numbers:\n",
    "#     print(i)\n",
    "\n",
    "numbers = [val for val in list(range(1, 1000001))]\n",
    "\n",
    "print('min:%s, max:%s, sum:%s'%(min(numbers), max(numbers), sum(numbers)))\n",
    "  \n",
    "numbers = list(range(1, 21, 2))  \n",
    "for i in numbers:\n",
    "    print(i)\n",
    "\n",
    "numbers = list(range(3, 31, 3))\n",
    "for i in numbers:\n",
    "    print(i)\n",
    "\n",
    "numbers = list(range(1, 11))\n",
    "result = []\n",
    "\n",
    "for i in numbers:\n",
    "    result.append(i ** 3)\n",
    "for i in result:\n",
    "    print(i)\n",
    "\n",
    "numbers = [val ** 3 for val in list(range(1, 11))]\n",
    "\n",
    "for i in numbers:\n",
    "    print(i)\n"
   ]
  },
  {
   "cell_type": "code",
   "execution_count": null,
   "metadata": {},
   "outputs": [],
   "source": [
    "动手试一试\n",
    "4-10 切片：选择你在本章编写的一个程序，在末尾添加几行代码，以完成如下任务。\n",
    " 打印消息“The first three items in the list are:”，再使用切片来打印列表的前三个元素。\n",
    " 打印消息“Three items from the middle of the list are:”，再使用切片来打印列表中间的三个元素。\n",
    " 打印消息“The last three items in the list are:”，再使用切片来打印列表末尾的三个元素。\n",
    "4-11 你的比萨和我的比萨：在你为完成练习4-1 而编写的程序中，创建比萨列表的副本，并将其存储到变量friend_pizzas 中，再完成如下任务。\n",
    " 在原来的比萨列表中添加一种比萨。\n",
    " 在列表friend_pizzas 中添加另一种比萨。\n",
    " 核实你有两个不同的列表。为此，打印消息“My favorite pizzas are:”，再使用一个for 循环来打印第一个列表；打印消息“My friend’s favorite pizzas are:”，再使用一个for 循环来打印第二个列表。核实新增的比萨被添加到了正确的列表中。\n",
    "4-12 使用多个循环：在本节中，为节省篇幅，程序foods.py 的每个版本都没有使用for 循环来打印列表。请选择一个版本的foods.py，在其中编写两个for 循环，将各个食品列表都打印出来。"
   ]
  },
  {
   "cell_type": "code",
   "execution_count": 3,
   "metadata": {},
   "outputs": [
    {
     "name": "stdout",
     "output_type": "stream",
     "text": [
      "The first three items in the list are:\n",
      " [1, 2, 3]\n",
      "Three items from the middle of the list are:\n",
      " [3, 4, 5]\n",
      "The last three items in the list are:\n",
      " [7, 8, 9]\n",
      "My favorite pizzas are:\n",
      "Cheese\n",
      "Mushroom\n",
      "Chicken\n",
      "fruit\n",
      "My friend’s favorite pizzas are:\n",
      "Cheese\n",
      "Mushroom\n",
      "Chicken\n",
      "Durian\n"
     ]
    }
   ],
   "source": [
    "items = list(range(1, 10))\n",
    "print('The first three items in the list are:\\n', items[:3])\n",
    "\n",
    "#下面可以用int(len(items) / 2)保存在一个变量中使用\n",
    "print('Three items from the middle of the list are:\\n',\\\n",
    "      items[int(items.__len__() / 2) - 2:int(items.__len__() / 2) + 1])\n",
    "#print(items[int(items.__len__() / 2) - 1:int(items.__len__() / 2) + 2])\n",
    "print('The last three items in the list are:\\n', items[-3:])\n",
    "\n",
    "pizza_name = ['Cheese', 'Mushroom', 'Chicken']\n",
    "friend_pizza = pizza_name[:]\n",
    "\n",
    "pizza_name.append('fruit')\n",
    "friend_pizza.append('Durian')\n",
    "\n",
    "print('My favorite pizzas are:')\n",
    "for i in pizza_name[:]:\n",
    "    print(i)\n",
    "\n",
    "print('My friend’s favorite pizzas are:')\n",
    "for i in friend_pizza[:]:\n",
    "    print(i)"
   ]
  },
  {
   "cell_type": "code",
   "execution_count": null,
   "metadata": {},
   "outputs": [],
   "source": [
    "动手试一试\n",
    "4-13 自助餐：有一家自助式餐馆，只提供五种简单的食品。请想出五种简单的食品，并将其存储在一个元组中。\n",
    " 使用一个for 循环将该餐馆提供的五种食品都打印出来。\n",
    " 尝试修改其中的一个元素，核实Python 确实会拒绝你这样做。\n",
    " 餐馆调整了菜单，替换了它提供的其中两种食品。请编写一个这样的代码块：给元组变量赋值，并使用一个for 循环将新元组的每个元素都打印出来。"
   ]
  },
  {
   "cell_type": "code",
   "execution_count": 4,
   "metadata": {},
   "outputs": [
    {
     "name": "stdout",
     "output_type": "stream",
     "text": [
      "apple\n",
      "banana\n",
      "orange\n",
      "pea\n",
      "peach\n"
     ]
    }
   ],
   "source": [
    "foods = ('apple', 'banana', 'orange', 'pea', 'peach')  \n",
    "\n",
    "for food in foods:\n",
    "    print(food)"
   ]
  },
  {
   "cell_type": "code",
   "execution_count": 5,
   "metadata": {},
   "outputs": [
    {
     "ename": "TypeError",
     "evalue": "'tuple' object does not support item assignment",
     "output_type": "error",
     "traceback": [
      "\u001b[1;31m---------------------------------------------------------------------------\u001b[0m",
      "\u001b[1;31mTypeError\u001b[0m                                 Traceback (most recent call last)",
      "\u001b[1;32m<ipython-input-5-c1dd94dcf392>\u001b[0m in \u001b[0;36m<module>\u001b[1;34m()\u001b[0m\n\u001b[1;32m----> 1\u001b[1;33m \u001b[0mfoods\u001b[0m\u001b[1;33m[\u001b[0m\u001b[1;36m0\u001b[0m\u001b[1;33m]\u001b[0m \u001b[1;33m=\u001b[0m \u001b[1;34m'Chicken'\u001b[0m\u001b[1;33m\u001b[0m\u001b[0m\n\u001b[0m",
      "\u001b[1;31mTypeError\u001b[0m: 'tuple' object does not support item assignment"
     ]
    }
   ],
   "source": [
    "foods[0] = 'Chicken'"
   ]
  },
  {
   "cell_type": "code",
   "execution_count": 7,
   "metadata": {},
   "outputs": [
    {
     "name": "stdout",
     "output_type": "stream",
     "text": [
      "apple\n",
      "banana\n",
      "orange\n",
      "pea\n",
      "peach\n",
      "New foods menu ↓\n",
      "Chicken\n",
      "banana\n",
      "Durian\n",
      "pea\n",
      "peach\n"
     ]
    }
   ],
   "source": [
    "foods = ('apple', 'banana', 'orange', 'pea', 'peach')  \n",
    "\n",
    "for food in foods:\n",
    "    print(food)\n",
    "print('New foods menu ↓')    \n",
    "new_foods = ('Chicken', 'banana', 'Durian', 'pea', 'peach')\n",
    "for food in new_foods:\n",
    "    print(food)"
   ]
  },
  {
   "cell_type": "code",
   "execution_count": null,
   "metadata": {},
   "outputs": [],
   "source": [
    "动手试一试\n",
    "4-14 PEP 8：请访问https://python.org/dev/peps/pep-0008/，阅读PEP 8 格式设置指南。当前，这些指南适用的不多，但你可以大致浏览一下。\n",
    "4-15 代码审核：从本章编写的程序中选择三个，根据PEP 8 指南对它们进行修改。\n",
    " 每级缩进都使用四个空格。对你使用的文本编辑器进行设置，使其在你按Tab键时都插入四个空格；如果你还没有这样做，现在就去做吧（有关如何设置，\n",
    "请参阅附录B）。\n",
    " 每行都不要超过80 字符。对你使用的编辑器进行设置，使其在第80 个字符处显示一条垂直参考线。\n",
    " 不要在程序文件中过多地使用空行。"
   ]
  }
 ],
 "metadata": {
  "kernelspec": {
   "display_name": "Python 3",
   "language": "python",
   "name": "python3"
  },
  "language_info": {
   "codemirror_mode": {
    "name": "ipython",
    "version": 3
   },
   "file_extension": ".py",
   "mimetype": "text/x-python",
   "name": "python",
   "nbconvert_exporter": "python",
   "pygments_lexer": "ipython3",
   "version": "3.6.5"
  }
 },
 "nbformat": 4,
 "nbformat_minor": 2
}
